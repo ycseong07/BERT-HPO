{
 "cells": [
  {
   "cell_type": "markdown",
   "id": "547a616d",
   "metadata": {},
   "source": [
    "데이터 크기가 너무 크면 전부 RAM에 올려놓고 분석할 경우 out of memory 오류 발생 위험이 있음\n",
    "\n",
    "huggingface community에서 제공하는 datasets library는 raw data나 in-memory data를 로드/처리하는 작업을 빠르고 효율적으로 할 수 있게 해줌\n",
    "ex) 18GB 데이터세트를 로드하면 RAM에는 9MB만 할당하고 Python에서 1-2GBit/s의 속도로 dataset을 iterate함\n",
    "\n",
    "datasets library를 사용하기 위해, (병원에서 전달해 줄 것이라고 예상되는) 하나의 csv 파일을 train/test 파일로 나누어 저장해두고 사용"
   ]
  },
  {
   "cell_type": "code",
   "execution_count": 22,
   "id": "4e338b35",
   "metadata": {
    "ExecuteTime": {
     "end_time": "2022-09-23T05:41:37.997642Z",
     "start_time": "2022-09-23T05:41:37.991905Z"
    }
   },
   "outputs": [],
   "source": [
    "import pandas as pd\n",
    "from sklearn.model_selection import train_test_split"
   ]
  },
  {
   "cell_type": "code",
   "execution_count": 23,
   "id": "1555077c",
   "metadata": {
    "ExecuteTime": {
     "end_time": "2022-09-23T05:41:38.125796Z",
     "start_time": "2022-09-23T05:41:38.120772Z"
    }
   },
   "outputs": [],
   "source": [
    "file_name = 'spam'"
   ]
  },
  {
   "cell_type": "code",
   "execution_count": 24,
   "id": "565501f9",
   "metadata": {
    "ExecuteTime": {
     "end_time": "2022-09-23T05:41:38.217626Z",
     "start_time": "2022-09-23T05:41:38.205167Z"
    }
   },
   "outputs": [
    {
     "name": "stdout",
     "output_type": "stream",
     "text": [
      "                                                text  label\n",
      "0  Go until jurong point, crazy.. Available only ...      0\n",
      "1                      Ok lar... Joking wif u oni...      0\n",
      "2  Free entry in 2 a wkly comp to win FA Cup fina...      1\n",
      "3  U dun say so early hor... U c already then say...      0\n",
      "4  Nah I don't think he goes to usf, he lives aro...      0\n"
     ]
    }
   ],
   "source": [
    "data_dir = f'./data_raw/{file_name}.csv' # your local raw data dir\n",
    "data = pd.read_csv(data_dir)\n",
    "print(data.head())"
   ]
  },
  {
   "cell_type": "code",
   "execution_count": 27,
   "id": "2f64ee5c",
   "metadata": {
    "ExecuteTime": {
     "end_time": "2022-09-23T05:41:57.832547Z",
     "start_time": "2022-09-23T05:41:57.823668Z"
    }
   },
   "outputs": [
    {
     "data": {
      "text/plain": [
       "0       Go until jurong point, crazy.. Available only ...\n",
       "1                           Ok lar... Joking wif u oni...\n",
       "2       Free entry in 2 a wkly comp to win FA Cup fina...\n",
       "3       U dun say so early hor... U c already then say...\n",
       "4       Nah I don't think he goes to usf, he lives aro...\n",
       "                              ...                        \n",
       "5567    This is the 2nd time we have tried 2 contact u...\n",
       "5568                Will Ì_ b going to esplanade fr home?\n",
       "5569    Pity, * was in mood for that. So...any other s...\n",
       "5570    The guy did some bitching but I acted like i'd...\n",
       "5571                           Rofl. Its true to its name\n",
       "Name: text, Length: 5572, dtype: object"
      ]
     },
     "execution_count": 27,
     "metadata": {},
     "output_type": "execute_result"
    }
   ],
   "source": [
    "data['text']"
   ]
  },
  {
   "cell_type": "code",
   "execution_count": 25,
   "id": "0b7741e2",
   "metadata": {
    "ExecuteTime": {
     "end_time": "2022-09-23T05:41:38.344591Z",
     "start_time": "2022-09-23T05:41:38.335119Z"
    }
   },
   "outputs": [],
   "source": [
    "y = data.label\n",
    "X = data.drop('label', axis=1)\n",
    "\n",
    "X_train, X_test, y_train, y_test = train_test_split(X, y, test_size = 0.2) # The test set is 20% of the total as default."
   ]
  },
  {
   "cell_type": "code",
   "execution_count": 20,
   "id": "791df1f1",
   "metadata": {
    "ExecuteTime": {
     "end_time": "2022-09-23T05:30:58.815332Z",
     "start_time": "2022-09-23T05:30:58.808654Z"
    }
   },
   "outputs": [],
   "source": [
    "train = pd.concat([X_train, y_train], axis=1)\n",
    "test = pd.concat([X_test, y_test], axis=1)"
   ]
  },
  {
   "cell_type": "code",
   "execution_count": 21,
   "id": "8b4289dd",
   "metadata": {
    "ExecuteTime": {
     "end_time": "2022-09-23T05:30:59.196415Z",
     "start_time": "2022-09-23T05:30:59.171343Z"
    }
   },
   "outputs": [],
   "source": [
    "train.to_csv(f'./data_splited/{file_name}_train.csv', index=False) # your local splited data dir\n",
    "test.to_csv(f'./data_splited/{file_name}_test.csv', index=False) # your local splited data dir"
   ]
  }
 ],
 "metadata": {
  "kernelspec": {
   "display_name": "Python 3",
   "language": "python",
   "name": "python3"
  },
  "language_info": {
   "codemirror_mode": {
    "name": "ipython",
    "version": 3
   },
   "file_extension": ".py",
   "mimetype": "text/x-python",
   "name": "python",
   "nbconvert_exporter": "python",
   "pygments_lexer": "ipython3",
   "version": "3.8.10"
  },
  "toc": {
   "base_numbering": 1,
   "nav_menu": {},
   "number_sections": false,
   "sideBar": true,
   "skip_h1_title": false,
   "title_cell": "Table of Contents",
   "title_sidebar": "Contents",
   "toc_cell": false,
   "toc_position": {},
   "toc_section_display": true,
   "toc_window_display": false
  }
 },
 "nbformat": 4,
 "nbformat_minor": 5
}
